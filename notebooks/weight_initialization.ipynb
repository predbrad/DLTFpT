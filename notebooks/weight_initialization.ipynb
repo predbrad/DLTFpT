{
 "cells": [
  {
   "cell_type": "markdown",
   "metadata": {},
   "source": [
    "# Weight Initialization"
   ]
  },
  {
   "cell_type": "markdown",
   "metadata": {},
   "source": [
    "In this notebook, we experiment with weight initialization approaches to examine their impact on layer outputs."
   ]
  },
  {
   "cell_type": "markdown",
   "metadata": {},
   "source": [
    "[![Open In Colab](https://colab.research.google.com/assets/colab-badge.svg)](https://colab.research.google.com/github/jonkrohn/DLTFpT/blob/master/notebooks/weight_initialization.ipynb)"
   ]
  },
  {
   "cell_type": "markdown",
   "metadata": {},
   "source": [
    "#### Load dependencies"
   ]
  },
  {
   "cell_type": "code",
   "execution_count": 2,
   "metadata": {},
   "outputs": [],
   "source": [
    "import numpy as np\n",
    "import matplotlib.pyplot as plt\n",
    "\n",
    "from tensorflow.keras import Sequential\n",
    "from tensorflow.keras.layers import Dense, Activation\n",
    "from tensorflow.keras.initializers import Zeros, RandomNormal, glorot_normal, glorot_uniform"
   ]
  },
  {
   "cell_type": "markdown",
   "metadata": {},
   "source": [
    "#### Set number of neurons"
   ]
  },
  {
   "cell_type": "code",
   "execution_count": 3,
   "metadata": {},
   "outputs": [],
   "source": [
    "n_input = 784\n",
    "n_dense = 256"
   ]
  },
  {
   "cell_type": "markdown",
   "metadata": {},
   "source": [
    "#### Select a bias initializer"
   ]
  },
  {
   "cell_type": "code",
   "execution_count": 4,
   "metadata": {},
   "outputs": [],
   "source": [
    "b_init = Zeros()"
   ]
  },
  {
   "cell_type": "markdown",
   "metadata": {},
   "source": [
    "#### Select a weight initializer"
   ]
  },
  {
   "cell_type": "code",
   "execution_count": 5,
   "metadata": {},
   "outputs": [],
   "source": [
    "#w_init = RandomNormal(stddev=1.0)\n",
    "w_init = glorot_normal()\n",
    "# w_init = glorot_uniform()"
   ]
  },
  {
   "cell_type": "markdown",
   "metadata": {},
   "source": [
    "#### Design neural network architecture"
   ]
  },
  {
   "cell_type": "code",
   "execution_count": 6,
   "metadata": {},
   "outputs": [],
   "source": [
    "model = Sequential()\n",
    "model.add(Dense(n_dense, \n",
    "                input_dim=n_input,\n",
    "                kernel_initializer=w_init,\n",
    "                bias_initializer=b_init))\n",
    "model.add(Activation('sigmoid'))\n",
    "# model.add(Activation('tanh'))\n",
    "# model.add(Activation('relu'))"
   ]
  },
  {
   "cell_type": "markdown",
   "metadata": {},
   "source": [
    "#### Generate random *x* values"
   ]
  },
  {
   "cell_type": "code",
   "execution_count": 7,
   "metadata": {},
   "outputs": [],
   "source": [
    "x = np.random.random((1,n_input))"
   ]
  },
  {
   "cell_type": "markdown",
   "metadata": {},
   "source": [
    "#### Forward propagate through the network"
   ]
  },
  {
   "cell_type": "code",
   "execution_count": 8,
   "metadata": {},
   "outputs": [],
   "source": [
    "a = model.predict(x)"
   ]
  },
  {
   "cell_type": "code",
   "execution_count": 9,
   "metadata": {},
   "outputs": [
    {
     "data": {
      "text/plain": [
       "array([[0.5455576 , 0.44448584, 0.34666425, 0.45527193, 0.4594882 ,\n",
       "        0.22136673, 0.60358506, 0.34415475, 0.48779753, 0.56782156,\n",
       "        0.2816855 , 0.5833683 , 0.5392239 , 0.75718904, 0.23859411,\n",
       "        0.31613836, 0.29829875, 0.5701523 , 0.67551583, 0.61508787,\n",
       "        0.5172165 , 0.631782  , 0.73938656, 0.51591724, 0.3845539 ,\n",
       "        0.624048  , 0.44412345, 0.6043543 , 0.61731607, 0.5385226 ,\n",
       "        0.688622  , 0.48792508, 0.5210208 , 0.627166  , 0.60088104,\n",
       "        0.44397962, 0.5650477 , 0.40613464, 0.60975635, 0.3621328 ,\n",
       "        0.72425246, 0.72330076, 0.45129153, 0.736014  , 0.70085704,\n",
       "        0.74825114, 0.34290853, 0.69284195, 0.51951367, 0.36413318,\n",
       "        0.6963893 , 0.57694274, 0.585096  , 0.50022066, 0.5777389 ,\n",
       "        0.60784984, 0.25985825, 0.38847336, 0.24450132, 0.6638481 ,\n",
       "        0.6832405 , 0.19518593, 0.30991215, 0.39786562, 0.4111085 ,\n",
       "        0.3286587 , 0.5588088 , 0.47617003, 0.6623375 , 0.21490139,\n",
       "        0.35580063, 0.382405  , 0.41300058, 0.47542465, 0.28498864,\n",
       "        0.43608135, 0.45794293, 0.63892144, 0.5514605 , 0.7428529 ,\n",
       "        0.6941793 , 0.6912297 , 0.56026447, 0.6073884 , 0.23995537,\n",
       "        0.5438708 , 0.6857382 , 0.31852472, 0.5236746 , 0.14441374,\n",
       "        0.45417583, 0.42580152, 0.39616385, 0.4559665 , 0.59110314,\n",
       "        0.49004498, 0.64516526, 0.39375603, 0.5697842 , 0.71689975,\n",
       "        0.26109678, 0.37101978, 0.41909084, 0.51931137, 0.26226163,\n",
       "        0.18168736, 0.58263963, 0.43726885, 0.69899356, 0.23232964,\n",
       "        0.4378655 , 0.4446062 , 0.65884686, 0.22195092, 0.58562464,\n",
       "        0.6896475 , 0.33656764, 0.6518999 , 0.5940335 , 0.321735  ,\n",
       "        0.45287284, 0.82097316, 0.5230197 , 0.4750762 , 0.5132432 ,\n",
       "        0.61089873, 0.36064696, 0.40954345, 0.24788833, 0.5974228 ,\n",
       "        0.51817405, 0.7540748 , 0.7868574 , 0.566795  , 0.37936655,\n",
       "        0.28492987, 0.43149373, 0.56534266, 0.49208376, 0.68448746,\n",
       "        0.5474767 , 0.55348223, 0.5052053 , 0.53813845, 0.32831973,\n",
       "        0.2608108 , 0.6894599 , 0.3801019 , 0.61186033, 0.5476821 ,\n",
       "        0.42619514, 0.6411767 , 0.2730296 , 0.5661638 , 0.17145067,\n",
       "        0.6779536 , 0.32039887, 0.3186984 , 0.7391866 , 0.3440631 ,\n",
       "        0.605969  , 0.5818305 , 0.7627965 , 0.26679605, 0.73500955,\n",
       "        0.5512977 , 0.573926  , 0.72961766, 0.5567397 , 0.58886963,\n",
       "        0.31413832, 0.5623522 , 0.26766896, 0.29162723, 0.6680256 ,\n",
       "        0.18867362, 0.70927465, 0.19756314, 0.18362743, 0.50718033,\n",
       "        0.5607197 , 0.55297285, 0.60442907, 0.7661438 , 0.2716006 ,\n",
       "        0.49968472, 0.19516024, 0.6261326 , 0.40784758, 0.54611635,\n",
       "        0.71538293, 0.63536865, 0.60715294, 0.51881915, 0.3345344 ,\n",
       "        0.61479133, 0.6646176 , 0.3948266 , 0.3629338 , 0.65640664,\n",
       "        0.48365682, 0.5131819 , 0.4978078 , 0.41504893, 0.21294695,\n",
       "        0.40771258, 0.33253303, 0.25710374, 0.55309606, 0.32829386,\n",
       "        0.25957972, 0.52216387, 0.38019496, 0.39613742, 0.4061385 ,\n",
       "        0.4179384 , 0.4817119 , 0.519844  , 0.5434316 , 0.7638788 ,\n",
       "        0.58545786, 0.6620563 , 0.47760388, 0.6000763 , 0.44576213,\n",
       "        0.6500565 , 0.16385883, 0.5151921 , 0.42301816, 0.59860086,\n",
       "        0.56812197, 0.5607057 , 0.2732105 , 0.43743753, 0.1760365 ,\n",
       "        0.4337014 , 0.45891008, 0.57542413, 0.61242163, 0.4665122 ,\n",
       "        0.20801026, 0.705963  , 0.5185002 , 0.40390652, 0.58419853,\n",
       "        0.48898402, 0.4579611 , 0.703902  , 0.78715456, 0.4317853 ,\n",
       "        0.47373977, 0.29796833, 0.3288681 , 0.26957378, 0.1954605 ,\n",
       "        0.26465023]], dtype=float32)"
      ]
     },
     "execution_count": 9,
     "metadata": {},
     "output_type": "execute_result"
    }
   ],
   "source": [
    "a"
   ]
  },
  {
   "cell_type": "code",
   "execution_count": 14,
   "metadata": {},
   "outputs": [
    {
     "data": {
      "image/png": "[encoded data removed]",
      "text/plain": [
       "<Figure size 432x288 with 1 Axes>"
      ]
     },
     "metadata": {
      "needs_background": "light"
     },
     "output_type": "display_data"
    }
   ],
   "source": [
    "_ = plt.hist(np.transpose(a))"
   ]
  },
  {
   "cell_type": "code",
   "execution_count": null,
   "metadata": {},
   "outputs": [],
   "source": []
  },
  {
   "cell_type": "code",
   "execution_count": null,
   "metadata": {},
   "outputs": [],
   "source": []
  }
 ],
 "metadata": {
  "kernelspec": {
   "display_name": "Python 3",
   "language": "python",
   "name": "python3"
  },
  "language_info": {
   "codemirror_mode": {
    "name": "ipython",
    "version": 3
   },
   "file_extension": ".py",
   "mimetype": "text/x-python",
   "name": "python",
   "nbconvert_exporter": "python",
   "pygments_lexer": "ipython3",
   "version": "3.7.3"
  }
 },
 "nbformat": 4,
 "nbformat_minor": 2
}
