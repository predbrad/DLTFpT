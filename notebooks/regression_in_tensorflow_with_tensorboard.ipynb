{
 "cells": [
  {
   "cell_type": "markdown",
   "metadata": {},
   "source": [
    "# Regression Example in TensorFlow (with TensorBoard)\n",
    "Predicting house prices in Boston, Massachusetts while logging results for TensorBoard"
   ]
  },
  {
   "cell_type": "markdown",
   "metadata": {},
   "source": [
    "[![Open In Colab](https://colab.research.google.com/assets/colab-badge.svg)](https://colab.research.google.com/github/jonkrohn/DLTFpT/blob/master/notebooks/regression_in_tensorflow_with_tensorboard.ipynb)"
   ]
  },
  {
   "cell_type": "markdown",
   "metadata": {},
   "source": [
    "#### Load dependencies"
   ]
  },
  {
   "cell_type": "code",
   "execution_count": 1,
   "metadata": {},
   "outputs": [],
   "source": [
    "import numpy as np\n",
    "from tensorflow.keras.datasets import boston_housing \n",
    "from tensorflow.keras.models import Sequential\n",
    "from tensorflow.keras.layers import Dense, Dropout \n",
    "from tensorflow.keras.layers import BatchNormalization \n",
    "from tensorflow.keras.callbacks import ModelCheckpoint \n",
    "from tensorflow.keras.callbacks import TensorBoard # new!  \n",
    "import os "
   ]
  },
  {
   "cell_type": "markdown",
   "metadata": {},
   "source": [
    "#### Load data"
   ]
  },
  {
   "cell_type": "code",
   "execution_count": 2,
   "metadata": {},
   "outputs": [
    {
     "name": "stdout",
     "output_type": "stream",
     "text": [
      "Downloading data from https://storage.googleapis.com/tensorflow/tf-keras-datasets/boston_housing.npz\n",
      "57344/57026 [==============================] - 0s 0us/step\n"
     ]
    }
   ],
   "source": [
    "(X_train, y_train), (X_valid, y_valid) = boston_housing.load_data()"
   ]
  },
  {
   "cell_type": "code",
   "execution_count": 3,
   "metadata": {},
   "outputs": [
    {
     "data": {
      "text/plain": [
       "(404, 13)"
      ]
     },
     "execution_count": 3,
     "metadata": {},
     "output_type": "execute_result"
    }
   ],
   "source": [
    "X_train.shape"
   ]
  },
  {
   "cell_type": "code",
   "execution_count": 4,
   "metadata": {},
   "outputs": [
    {
     "data": {
      "text/plain": [
       "(102, 13)"
      ]
     },
     "execution_count": 4,
     "metadata": {},
     "output_type": "execute_result"
    }
   ],
   "source": [
    "X_valid.shape"
   ]
  },
  {
   "cell_type": "code",
   "execution_count": 5,
   "metadata": {},
   "outputs": [
    {
     "data": {
      "text/plain": [
       "array([  1.23247,   0.     ,   8.14   ,   0.     ,   0.538  ,   6.142  ,\n",
       "        91.7    ,   3.9769 ,   4.     , 307.     ,  21.     , 396.9    ,\n",
       "        18.72   ])"
      ]
     },
     "execution_count": 5,
     "metadata": {},
     "output_type": "execute_result"
    }
   ],
   "source": [
    "X_train[0]"
   ]
  },
  {
   "cell_type": "code",
   "execution_count": 6,
   "metadata": {},
   "outputs": [
    {
     "data": {
      "text/plain": [
       "15.2"
      ]
     },
     "execution_count": 6,
     "metadata": {},
     "output_type": "execute_result"
    }
   ],
   "source": [
    "y_train[0]"
   ]
  },
  {
   "cell_type": "markdown",
   "metadata": {},
   "source": [
    "#### Design neural network architecture"
   ]
  },
  {
   "cell_type": "code",
   "execution_count": 7,
   "metadata": {},
   "outputs": [],
   "source": [
    "model = Sequential()\n",
    "\n",
    "model.add(Dense(32, input_dim=13, activation='relu'))\n",
    "model.add(BatchNormalization())\n",
    "\n",
    "model.add(Dense(16, activation='relu'))\n",
    "model.add(BatchNormalization())\n",
    "model.add(Dropout(0.2))\n",
    "\n",
    "model.add(Dense(1, activation='linear'))"
   ]
  },
  {
   "cell_type": "code",
   "execution_count": 8,
   "metadata": {},
   "outputs": [
    {
     "name": "stdout",
     "output_type": "stream",
     "text": [
      "Model: \"sequential\"\n",
      "_________________________________________________________________\n",
      "Layer (type)                 Output Shape              Param #   \n",
      "=================================================================\n",
      "dense (Dense)                (None, 32)                448       \n",
      "_________________________________________________________________\n",
      "batch_normalization (BatchNo (None, 32)                128       \n",
      "_________________________________________________________________\n",
      "dense_1 (Dense)              (None, 16)                528       \n",
      "_________________________________________________________________\n",
      "batch_normalization_1 (Batch (None, 16)                64        \n",
      "_________________________________________________________________\n",
      "dropout (Dropout)            (None, 16)                0         \n",
      "_________________________________________________________________\n",
      "dense_2 (Dense)              (None, 1)                 17        \n",
      "=================================================================\n",
      "Total params: 1,185\n",
      "Trainable params: 1,089\n",
      "Non-trainable params: 96\n",
      "_________________________________________________________________\n"
     ]
    }
   ],
   "source": [
    "model.summary()"
   ]
  },
  {
   "cell_type": "markdown",
   "metadata": {},
   "source": [
    "#### Configure Model"
   ]
  },
  {
   "cell_type": "code",
   "execution_count": 9,
   "metadata": {},
   "outputs": [],
   "source": [
    "model.compile(loss='mean_squared_error', optimizer='adam', )"
   ]
  },
  {
   "cell_type": "code",
   "execution_count": 10,
   "metadata": {},
   "outputs": [],
   "source": [
    "output_dir = 'model_output/'"
   ]
  },
  {
   "cell_type": "code",
   "execution_count": 11,
   "metadata": {},
   "outputs": [],
   "source": [
    "run_name = 'regression_baseline'\n",
    "output_path = output_dir + run_name"
   ]
  },
  {
   "cell_type": "code",
   "execution_count": 12,
   "metadata": {},
   "outputs": [],
   "source": [
    "if not os.path.exists(output_path):\n",
    "    os.makedirs(output_path)"
   ]
  },
  {
   "cell_type": "code",
   "execution_count": 13,
   "metadata": {},
   "outputs": [],
   "source": [
    "modelcheckpoint = ModelCheckpoint(output_path + '/weights.{epoch:02d}.hdf5', # decimal integers\n",
    "                                  save_weights_only=True) # otherwise full model is saved"
   ]
  },
  {
   "cell_type": "code",
   "execution_count": 14,
   "metadata": {},
   "outputs": [],
   "source": [
    "tensorboard = TensorBoard(log_dir='logs/' + run_name)"
   ]
  },
  {
   "cell_type": "markdown",
   "metadata": {},
   "source": [
    "#### Train!"
   ]
  },
  {
   "cell_type": "code",
   "execution_count": 15,
   "metadata": {},
   "outputs": [
    {
     "name": "stdout",
     "output_type": "stream",
     "text": [
      "Train on 404 samples, validate on 102 samples\n",
      "Epoch 1/32\n",
      "404/404 [==============================] - 1s 2ms/sample - loss: 578.5278 - val_loss: 467.7360\n",
      "Epoch 2/32\n",
      "404/404 [==============================] - 0s 172us/sample - loss: 552.8455 - val_loss: 493.0400\n",
      "Epoch 3/32\n",
      "404/404 [==============================] - 0s 173us/sample - loss: 535.2686 - val_loss: 482.7903\n",
      "Epoch 4/32\n",
      "404/404 [==============================] - 0s 172us/sample - loss: 514.6359 - val_loss: 471.4748\n",
      "Epoch 5/32\n",
      "404/404 [==============================] - 0s 170us/sample - loss: 489.1425 - val_loss: 479.5288\n",
      "Epoch 6/32\n",
      "404/404 [==============================] - 0s 171us/sample - loss: 462.1175 - val_loss: 507.7568\n",
      "Epoch 7/32\n",
      "404/404 [==============================] - 0s 170us/sample - loss: 428.6640 - val_loss: 493.8386\n",
      "Epoch 8/32\n",
      "404/404 [==============================] - 0s 176us/sample - loss: 398.7583 - val_loss: 475.0217\n",
      "Epoch 9/32\n",
      "404/404 [==============================] - 0s 176us/sample - loss: 356.6370 - val_loss: 447.9808\n",
      "Epoch 10/32\n",
      "404/404 [==============================] - 0s 176us/sample - loss: 323.8813 - val_loss: 461.6482\n",
      "Epoch 11/32\n",
      "404/404 [==============================] - 0s 176us/sample - loss: 285.3169 - val_loss: 424.2910\n",
      "Epoch 12/32\n",
      "404/404 [==============================] - 0s 172us/sample - loss: 236.6081 - val_loss: 415.0866\n",
      "Epoch 13/32\n",
      "404/404 [==============================] - 0s 172us/sample - loss: 200.8074 - val_loss: 335.7111\n",
      "Epoch 14/32\n",
      "404/404 [==============================] - 0s 168us/sample - loss: 165.6202 - val_loss: 257.9900\n",
      "Epoch 15/32\n",
      "404/404 [==============================] - 0s 174us/sample - loss: 137.4145 - val_loss: 185.9975\n",
      "Epoch 16/32\n",
      "404/404 [==============================] - 0s 178us/sample - loss: 121.2155 - val_loss: 197.4871\n",
      "Epoch 17/32\n",
      "404/404 [==============================] - 0s 176us/sample - loss: 99.6848 - val_loss: 122.8169\n",
      "Epoch 18/32\n",
      "404/404 [==============================] - 0s 170us/sample - loss: 85.7940 - val_loss: 99.8554\n",
      "Epoch 19/32\n",
      "404/404 [==============================] - 0s 171us/sample - loss: 70.2200 - val_loss: 114.5961\n",
      "Epoch 20/32\n",
      "404/404 [==============================] - 0s 174us/sample - loss: 63.2260 - val_loss: 126.0855\n",
      "Epoch 21/32\n",
      "404/404 [==============================] - 0s 170us/sample - loss: 58.6792 - val_loss: 63.6210\n",
      "Epoch 22/32\n",
      "404/404 [==============================] - 0s 170us/sample - loss: 47.0503 - val_loss: 40.5761\n",
      "Epoch 23/32\n",
      "404/404 [==============================] - 0s 170us/sample - loss: 47.2330 - val_loss: 36.5070\n",
      "Epoch 24/32\n",
      "404/404 [==============================] - 0s 175us/sample - loss: 44.1206 - val_loss: 43.9418\n",
      "Epoch 25/32\n",
      "404/404 [==============================] - 0s 173us/sample - loss: 45.4392 - val_loss: 67.3406\n",
      "Epoch 26/32\n",
      "404/404 [==============================] - 0s 173us/sample - loss: 40.6788 - val_loss: 42.1442\n",
      "Epoch 27/32\n",
      "404/404 [==============================] - 0s 173us/sample - loss: 43.8297 - val_loss: 63.2801\n",
      "Epoch 28/32\n",
      "404/404 [==============================] - 0s 174us/sample - loss: 54.2252 - val_loss: 31.2206\n",
      "Epoch 29/32\n",
      "404/404 [==============================] - 0s 179us/sample - loss: 46.1798 - val_loss: 49.3368\n",
      "Epoch 30/32\n",
      "404/404 [==============================] - 0s 173us/sample - loss: 43.5797 - val_loss: 23.0532\n",
      "Epoch 31/32\n",
      "404/404 [==============================] - 0s 168us/sample - loss: 51.2517 - val_loss: 34.5153\n",
      "Epoch 32/32\n",
      "404/404 [==============================] - 0s 174us/sample - loss: 42.7200 - val_loss: 31.6789\n"
     ]
    },
    {
     "data": {
      "text/plain": [
       "<tensorflow.python.keras.callbacks.History at 0x7fb080b10780>"
      ]
     },
     "execution_count": 15,
     "metadata": {},
     "output_type": "execute_result"
    }
   ],
   "source": [
    "model.fit(X_train, y_train, \n",
    "          batch_size=8, epochs=32, verbose=1, \n",
    "          validation_data=(X_valid, y_valid),\n",
    "          callbacks=[modelcheckpoint, tensorboard]) "
   ]
  },
  {
   "cell_type": "markdown",
   "metadata": {},
   "source": [
    "#### Performing inference"
   ]
  },
  {
   "cell_type": "code",
   "execution_count": 16,
   "metadata": {},
   "outputs": [],
   "source": [
    "model.load_weights(output_path + '/weights.28.hdf5')"
   ]
  },
  {
   "cell_type": "code",
   "execution_count": 17,
   "metadata": {},
   "outputs": [
    {
     "data": {
      "text/plain": [
       "array([  9.32909,   0.     ,  18.1    ,   0.     ,   0.713  ,   6.185  ,\n",
       "        98.7    ,   2.2616 ,  24.     , 666.     ,  20.2    , 396.9    ,\n",
       "        18.13   ])"
      ]
     },
     "execution_count": 17,
     "metadata": {},
     "output_type": "execute_result"
    }
   ],
   "source": [
    "X_valid[42]"
   ]
  },
  {
   "cell_type": "code",
   "execution_count": 18,
   "metadata": {},
   "outputs": [
    {
     "data": {
      "text/plain": [
       "14.1"
      ]
     },
     "execution_count": 18,
     "metadata": {},
     "output_type": "execute_result"
    }
   ],
   "source": [
    "y_valid[42]"
   ]
  },
  {
   "cell_type": "code",
   "execution_count": 19,
   "metadata": {},
   "outputs": [
    {
     "data": {
      "text/plain": [
       "array([[14.502753]], dtype=float32)"
      ]
     },
     "execution_count": 19,
     "metadata": {},
     "output_type": "execute_result"
    }
   ],
   "source": [
    "model.predict(np.reshape(X_valid[42], [1, 13]))"
   ]
  },
  {
   "cell_type": "code",
   "execution_count": 20,
   "metadata": {},
   "outputs": [],
   "source": []
  },
  {
   "cell_type": "markdown",
   "metadata": {},
   "source": [
    "# To start tensorboard... \n",
    "`tensorboard --logdir='logs/' --port 6006`\n",
    "https://www.tensorflow.org/tensorboard/tensorboard_in_notebooks\n"
   ]
  },
  {
   "cell_type": "code",
   "execution_count": null,
   "metadata": {},
   "outputs": [],
   "source": []
  }
 ],
 "metadata": {
  "kernelspec": {
   "display_name": "Python 3",
   "language": "python",
   "name": "python3"
  },
  "language_info": {
   "codemirror_mode": {
    "name": "ipython",
    "version": 3
   },
   "file_extension": ".py",
   "mimetype": "text/x-python",
   "name": "python",
   "nbconvert_exporter": "python",
   "pygments_lexer": "ipython3",
   "version": "3.7.3"
  }
 },
 "nbformat": 4,
 "nbformat_minor": 2
}
